{
 "cells": [
  {
   "cell_type": "markdown",
   "id": "2ce8da5b",
   "metadata": {},
   "source": [
    "# 🧠 PyTorch Scavenger Hunt\n",
    "Learn basic PyTorch concepts like tensors, neural nets, training loops, and visualizing data using fake samples."
   ]
  },
  {
   "cell_type": "code",
   "execution_count": null,
   "id": "97d21be7",
   "metadata": {},
   "outputs": [],
   "source": [
    "import torch\n",
    "import torch.nn as nn\n",
    "import torch.optim as optim\n",
    "import matplotlib.pyplot as plt\n",
    "\n",
    "device = torch.device(\"cuda\" if torch.cuda.is_available() else \"cpu\")\n",
    "print(f\"Using device: {device}\")"
   ]
  },
  {
   "cell_type": "markdown",
   "id": "6f113d9d",
   "metadata": {},
   "source": [
    "## 🔢 Tensor Creation"
   ]
  },
  {
   "cell_type": "code",
   "execution_count": null,
   "id": "9ebfe0e7",
   "metadata": {},
   "outputs": [],
   "source": [
    "tensor = torch.tensor([\n",
    "    [1, 2, 3],\n",
    "    [4, 5, 6],\n",
    "    [7, 8, 9]\n",
    "], device=device)\n",
    "print(\"Tensor:\")\n",
    "print(tensor)"
   ]
  },
  {
   "cell_type": "markdown",
   "id": "13368dc4",
   "metadata": {},
   "source": [
    "## 🧪 Fake Data Loader"
   ]
  },
  {
   "cell_type": "code",
   "execution_count": null,
   "id": "081803f4",
   "metadata": {},
   "outputs": [],
   "source": [
    "def fake_training_loaders():\n",
    "    for _ in range(30):\n",
    "        yield torch.randn(64, 784), torch.randint(0, 10, (64,))"
   ]
  },
  {
   "cell_type": "markdown",
   "id": "07713caa",
   "metadata": {},
   "source": [
    "## 🎨 Visualize Fake Data"
   ]
  },
  {
   "cell_type": "code",
   "execution_count": null,
   "id": "fd22dc89",
   "metadata": {},
   "outputs": [],
   "source": [
    "images, labels = next(fake_training_loaders())\n",
    "\n",
    "plt.figure(figsize=(6, 6))\n",
    "for i in range(9):\n",
    "    img = images[i].reshape(28, 28)\n",
    "    label = labels[i].item()\n",
    "    plt.subplot(3, 3, i + 1)\n",
    "    plt.imshow(img, cmap=\"gray\")\n",
    "    plt.title(f\"Label: {label}\")\n",
    "    plt.axis(\"off\")\n",
    "plt.tight_layout()\n",
    "plt.show()"
   ]
  },
  {
   "cell_type": "markdown",
   "id": "bef1e90a",
   "metadata": {},
   "source": [
    "## 🧠 Define a Simple Neural Network"
   ]
  },
  {
   "cell_type": "code",
   "execution_count": null,
   "id": "bb251f80",
   "metadata": {},
   "outputs": [],
   "source": [
    "class MLP(nn.Module):\n",
    "    def __init__(self):\n",
    "        super().__init__()\n",
    "        self.fc1 = nn.Linear(784, 128)\n",
    "        self.relu = nn.ReLU()\n",
    "        self.fc2 = nn.Linear(128, 10)\n",
    "        self.softmax = nn.Softmax(dim=1)\n",
    "\n",
    "    def forward(self, x):\n",
    "        x = self.fc1(x)\n",
    "        x = self.relu(x)\n",
    "        x = self.fc2(x)\n",
    "        x = self.softmax(x)\n",
    "        return x\n",
    "\n",
    "model = MLP().to(device)\n",
    "print(model)"
   ]
  },
  {
   "cell_type": "markdown",
   "id": "9b16f180",
   "metadata": {},
   "source": [
    "## ⚙️ Loss Function and Optimizer"
   ]
  },
  {
   "cell_type": "code",
   "execution_count": null,
   "id": "a5c0670e",
   "metadata": {},
   "outputs": [],
   "source": [
    "loss_fn = nn.CrossEntropyLoss()\n",
    "optimizer = optim.SGD(model.parameters(), lr=0.01)"
   ]
  },
  {
   "cell_type": "markdown",
   "id": "1d9ce3c3",
   "metadata": {},
   "source": [
    "## 🔁 Training Loop"
   ]
  },
  {
   "cell_type": "code",
   "execution_count": null,
   "id": "a341edc2",
   "metadata": {},
   "outputs": [],
   "source": [
    "for epoch in range(3):\n",
    "    total_loss = 0\n",
    "    for x, y in fake_training_loaders():\n",
    "        x, y = x.to(device), y.to(device)\n",
    "        optimizer.zero_grad()\n",
    "        preds = model(x)\n",
    "        loss = loss_fn(preds, y)\n",
    "        loss.backward()\n",
    "        optimizer.step()\n",
    "        total_loss += loss.item()\n",
    "    print(f\"Epoch {epoch + 1}: Loss = {total_loss:.4f}\")"
   ]
  }
 ],
 "metadata": {},
 "nbformat": 4,
 "nbformat_minor": 5
}
